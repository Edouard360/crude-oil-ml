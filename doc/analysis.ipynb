{
 "cells": [
  {
   "cell_type": "markdown",
   "metadata": {},
   "source": [
    "# Crude Oil Challenge\n",
    "## About\n",
    "<p>This notebook presents my approach to the [crude oil challenge](https://challengedata.ens.fr/en/challenge/25/predict_the_crude_oil_production_trend.html#) proposed by Societe General.<br>\n",
    "My current score on the leaderboard is 0.80, the regressor used being the RandomForestClassifier of sklearn.\n",
    "<br><br>_NB:_<br>\n",
    "I created a Github repository for this project, that provides a better insight into the structure of my work. [Check it out](https://github.com/Edouard360/crude-oil-ml) ! </p>\n",
    "<br>\n",
    "## First Look Into The Data"
   ]
  },
  {
   "cell_type": "code",
   "execution_count": 2,
   "metadata": {
    "collapsed": false
   },
   "outputs": [],
   "source": [
    "import pandas as pd\n",
    "\n",
    "train_df = pd.read_csv(\"../data/train.csv\",delimiter=\";\",header=0,index_col=0);\n",
    "train_label = pd.read_csv(\"../data/label.csv\",delimiter=\";\",header=0,index_col=0);"
   ]
  },
  {
   "cell_type": "markdown",
   "metadata": {},
   "source": [
    "<p>What is the shape of my data ?</p>"
   ]
  },
  {
   "cell_type": "code",
   "execution_count": 3,
   "metadata": {
    "collapsed": false
   },
   "outputs": [
    {
     "data": {
      "text/plain": [
       "(10159, 122)"
      ]
     },
     "execution_count": 3,
     "metadata": {},
     "output_type": "execute_result"
    }
   ],
   "source": [
    "train_df.shape"
   ]
  },
  {
   "cell_type": "markdown",
   "metadata": {},
   "source": [
    "### Handling the column names\n",
    "<p>We can identify columns groups from our data.</p>"
   ]
  },
  {
   "cell_type": "code",
   "execution_count": 4,
   "metadata": {
    "collapsed": true
   },
   "outputs": [],
   "source": [
    "columns_group = [train_df.columns[2+10*i:2+10*(i+1)] for i in range(12)]\n",
    "columns_group.insert(0,train_df.columns[0:2])"
   ]
  },
  {
   "cell_type": "markdown",
   "metadata": {},
   "source": [
    "<p>And that way we have</p>"
   ]
  },
  {
   "cell_type": "code",
   "execution_count": 5,
   "metadata": {
    "collapsed": false
   },
   "outputs": [
    {
     "data": {
      "text/plain": [
       "Index(['1_diffClosing stocks(kmt)', '1_diffExports(kmt)', '1_diffImports(kmt)',\n",
       "       '1_diffRefinery intake(kmt)', '1_diffWTI',\n",
       "       '1_diffSumClosing stocks(kmt)', '1_diffSumExports(kmt)',\n",
       "       '1_diffSumImports(kmt)', '1_diffSumProduction(kmt)',\n",
       "       '1_diffSumRefinery intake(kmt)'],\n",
       "      dtype='object')"
      ]
     },
     "execution_count": 5,
     "metadata": {},
     "output_type": "execute_result"
    }
   ],
   "source": [
    "columns_group[1]"
   ]
  },
  {
   "cell_type": "code",
   "execution_count": 6,
   "metadata": {
    "collapsed": false
   },
   "outputs": [
    {
     "data": {
      "text/plain": [
       "Index(['2_diffClosing stocks(kmt)', '2_diffExports(kmt)', '2_diffImports(kmt)',\n",
       "       '2_diffRefinery intake(kmt)', '2_diffWTI',\n",
       "       '2_diffSumClosing stocks(kmt)', '2_diffSumExports(kmt)',\n",
       "       '2_diffSumImports(kmt)', '2_diffSumProduction(kmt)',\n",
       "       '2_diffSumRefinery intake(kmt)'],\n",
       "      dtype='object')"
      ]
     },
     "execution_count": 6,
     "metadata": {},
     "output_type": "execute_result"
    }
   ],
   "source": [
    "columns_group[2]"
   ]
  },
  {
   "cell_type": "markdown",
   "metadata": {},
   "source": [
    "<p>Let's create useful functions to __operate on these columns__. For instance, I'd like to be able to get:</p>\n",
    "\n",
    "+ All the statistics for one period. Just like the columns_group[1] output.\n",
    "+ All the statistics for many periods. The period set could be expressed like: `[1,2,3,4]` or `range(1,5)`.\n",
    "+ The statistics for only one category ( like `'diffImports(kmt)'` ) over all the periods (period1 to period12).\n",
    "+ The statistics for a list of categories ( like `['diffImports(kmt)','diffWTI','diffExports']` ) over all the periods.\n",
    "+ The statistics for a list of categories ( like `['diffImports(kmt)','diffWTI','diffExports']` ) for some given periods ( like `range(4,8)` ).\n",
    "\n",
    "<p>The following lines of code provide these features.</p>\n"
   ]
  },
  {
   "cell_type": "code",
   "execution_count": 4,
   "metadata": {
    "collapsed": true
   },
   "outputs": [],
   "source": [
    "COLUMNS_SUFFIX = ['_diffClosing stocks(kmt)',\n",
    "                  '_diffExports(kmt)', '_diffImports(kmt)',\n",
    "                  '_diffRefinery intake(kmt)', '_diffWTI',\n",
    "                  '_diffSumClosing stocks(kmt)', '_diffSumExports(kmt)',\n",
    "                  '_diffSumImports(kmt)', '_diffSumProduction(kmt)',\n",
    "                  '_diffSumRefinery intake(kmt)']\n",
    "\n",
    "\n",
    "def check_type_prefix(i):\n",
    "    if (type(i) is int):\n",
    "        i = [i]\n",
    "    elif ((type(i) is not range) and (type(i) is not list)):\n",
    "        raise TypeError(\"Only range, list or single integer allowed !\")\n",
    "    return i\n",
    "\n",
    "\n",
    "def check_type_suffix(i):\n",
    "    if (type(i) is str):\n",
    "        i = [i]\n",
    "    elif ((type(i) is not list)):\n",
    "        raise TypeError(\"Only list or single string allowed !\")\n",
    "    return i\n",
    "\n",
    "\n",
    "def get_prefix(i):\n",
    "    i = check_type_prefix(i)\n",
    "    return [str(j) + suffix for j in i for suffix in COLUMNS_SUFFIX]\n",
    "\n",
    "\n",
    "def get_suffix(suffix_request, prefix=range(1, 13)):\n",
    "    prefix = check_type_prefix(prefix)\n",
    "    suffix_request = check_type_suffix(suffix_request)\n",
    "    for i in range(len(suffix_request)):\n",
    "        for original_suffix in COLUMNS_SUFFIX:\n",
    "            if (str.lower(original_suffix).find(str.lower(suffix_request[i])) != -1):\n",
    "                suffix_request[i] = original_suffix\n",
    "                break\n",
    "    suffix_request = list(set(suffix_request))\n",
    "    return [str(j) + suffix for j in prefix for suffix in suffix_request]\n"
   ]
  },
  {
   "cell_type": "markdown",
   "metadata": {},
   "source": [
    "<p>Now we can simply use ```get_prefix``` and ```get_suffix``` that way:</p>\n",
    "\n",
    "+ All the statistics for one period. "
   ]
  },
  {
   "cell_type": "code",
   "execution_count": 5,
   "metadata": {
    "collapsed": false
   },
   "outputs": [
    {
     "data": {
      "text/plain": [
       "['5_diffClosing stocks(kmt)',\n",
       " '5_diffExports(kmt)',\n",
       " '5_diffImports(kmt)',\n",
       " '5_diffRefinery intake(kmt)',\n",
       " '5_diffWTI',\n",
       " '5_diffSumClosing stocks(kmt)',\n",
       " '5_diffSumExports(kmt)',\n",
       " '5_diffSumImports(kmt)',\n",
       " '5_diffSumProduction(kmt)',\n",
       " '5_diffSumRefinery intake(kmt)']"
      ]
     },
     "execution_count": 5,
     "metadata": {},
     "output_type": "execute_result"
    }
   ],
   "source": [
    "get_prefix(5)"
   ]
  },
  {
   "cell_type": "markdown",
   "metadata": {},
   "source": [
    "+ All the statistics for many periods."
   ]
  },
  {
   "cell_type": "code",
   "execution_count": 8,
   "metadata": {
    "collapsed": false
   },
   "outputs": [
    {
     "data": {
      "text/plain": [
       "['7_diffClosing stocks(kmt)',\n",
       " '7_diffExports(kmt)',\n",
       " '7_diffImports(kmt)',\n",
       " '7_diffRefinery intake(kmt)',\n",
       " '7_diffWTI',\n",
       " '7_diffSumClosing stocks(kmt)',\n",
       " '7_diffSumExports(kmt)',\n",
       " '7_diffSumImports(kmt)',\n",
       " '7_diffSumProduction(kmt)',\n",
       " '7_diffSumRefinery intake(kmt)',\n",
       " '8_diffClosing stocks(kmt)',\n",
       " '8_diffExports(kmt)',\n",
       " '8_diffImports(kmt)',\n",
       " '8_diffRefinery intake(kmt)',\n",
       " '8_diffWTI',\n",
       " '8_diffSumClosing stocks(kmt)',\n",
       " '8_diffSumExports(kmt)',\n",
       " '8_diffSumImports(kmt)',\n",
       " '8_diffSumProduction(kmt)',\n",
       " '8_diffSumRefinery intake(kmt)']"
      ]
     },
     "execution_count": 8,
     "metadata": {},
     "output_type": "execute_result"
    }
   ],
   "source": [
    "get_prefix(range(7,9))"
   ]
  },
  {
   "cell_type": "markdown",
   "metadata": {},
   "source": [
    "+ The statistics for only one category over all the periods. (Observe the leniency for the name of the feature)."
   ]
  },
  {
   "cell_type": "code",
   "execution_count": 6,
   "metadata": {
    "collapsed": false
   },
   "outputs": [
    {
     "data": {
      "text/plain": [
       "['1_diffImports(kmt)',\n",
       " '2_diffImports(kmt)',\n",
       " '3_diffImports(kmt)',\n",
       " '4_diffImports(kmt)',\n",
       " '5_diffImports(kmt)',\n",
       " '6_diffImports(kmt)',\n",
       " '7_diffImports(kmt)',\n",
       " '8_diffImports(kmt)',\n",
       " '9_diffImports(kmt)',\n",
       " '10_diffImports(kmt)',\n",
       " '11_diffImports(kmt)',\n",
       " '12_diffImports(kmt)']"
      ]
     },
     "execution_count": 6,
     "metadata": {},
     "output_type": "execute_result"
    }
   ],
   "source": [
    "get_suffix('Imports') # get_suffix('imports') and get_suffix('_diffImports(kmt)') give the same result."
   ]
  },
  {
   "cell_type": "markdown",
   "metadata": {},
   "source": [
    "+ The statistics for a list of categories over all the periods. (Again, the function is lenient for the feature's names)"
   ]
  },
  {
   "cell_type": "code",
   "execution_count": 10,
   "metadata": {
    "collapsed": false
   },
   "outputs": [
    {
     "data": {
      "text/plain": [
       "['1_diffImports(kmt)',\n",
       " '1_diffExports(kmt)',\n",
       " '2_diffImports(kmt)',\n",
       " '2_diffExports(kmt)',\n",
       " '3_diffImports(kmt)',\n",
       " '3_diffExports(kmt)',\n",
       " '4_diffImports(kmt)',\n",
       " '4_diffExports(kmt)',\n",
       " '5_diffImports(kmt)',\n",
       " '5_diffExports(kmt)',\n",
       " '6_diffImports(kmt)',\n",
       " '6_diffExports(kmt)',\n",
       " '7_diffImports(kmt)',\n",
       " '7_diffExports(kmt)',\n",
       " '8_diffImports(kmt)',\n",
       " '8_diffExports(kmt)',\n",
       " '9_diffImports(kmt)',\n",
       " '9_diffExports(kmt)',\n",
       " '10_diffImports(kmt)',\n",
       " '10_diffExports(kmt)',\n",
       " '11_diffImports(kmt)',\n",
       " '11_diffExports(kmt)',\n",
       " '12_diffImports(kmt)',\n",
       " '12_diffExports(kmt)']"
      ]
     },
     "execution_count": 10,
     "metadata": {},
     "output_type": "execute_result"
    }
   ],
   "source": [
    "get_suffix(['Imports','Exports'])"
   ]
  },
  {
   "cell_type": "markdown",
   "metadata": {},
   "source": [
    "+ And finally, the statistics for a list of categories __for some given periods__."
   ]
  },
  {
   "cell_type": "code",
   "execution_count": 12,
   "metadata": {
    "collapsed": false
   },
   "outputs": [
    {
     "data": {
      "text/plain": [
       "['1_diffRefinery intake(kmt)',\n",
       " '1_diffWTI',\n",
       " '2_diffRefinery intake(kmt)',\n",
       " '2_diffWTI',\n",
       " '3_diffRefinery intake(kmt)',\n",
       " '3_diffWTI']"
      ]
     },
     "execution_count": 12,
     "metadata": {},
     "output_type": "execute_result"
    }
   ],
   "source": [
    "get_suffix(['wti','refinery'],range(1,4))"
   ]
  },
  {
   "cell_type": "markdown",
   "metadata": {},
   "source": [
    "<p>Now that we have tools for handling the columns let's move on ! \n",
    "<br><br>_NB:_<br> There is also a ```except_suffix``` function (that does what its name suggest).\n",
    "[Github link](https://github.com/Edouard360/crude-oil-ml/blob/master/tools/features_name.py) for the full code.</p>"
   ]
  },
  {
   "cell_type": "markdown",
   "metadata": {},
   "source": [
    "## Dealing with missing values\n",
    "<p>We can explicit the columns where the missing values are located :</p>"
   ]
  },
  {
   "cell_type": "code",
   "execution_count": 27,
   "metadata": {
    "collapsed": false
   },
   "outputs": [
    {
     "name": "stdout",
     "output_type": "stream",
     "text": [
      "Columns where we find missing values :\n",
      "\n",
      "Index(['1_diffClosing stocks(kmt)', '1_diffImports(kmt)',\n",
      "       '2_diffClosing stocks(kmt)', '2_diffImports(kmt)',\n",
      "       '3_diffClosing stocks(kmt)', '3_diffImports(kmt)',\n",
      "       '4_diffClosing stocks(kmt)', '4_diffImports(kmt)',\n",
      "       '5_diffClosing stocks(kmt)', '5_diffImports(kmt)',\n",
      "       '6_diffClosing stocks(kmt)', '6_diffImports(kmt)',\n",
      "       '7_diffClosing stocks(kmt)', '7_diffImports(kmt)',\n",
      "       '8_diffClosing stocks(kmt)', '8_diffImports(kmt)',\n",
      "       '9_diffClosing stocks(kmt)', '9_diffImports(kmt)',\n",
      "       '10_diffClosing stocks(kmt)', '10_diffImports(kmt)',\n",
      "       '11_diffClosing stocks(kmt)', '11_diffImports(kmt)',\n",
      "       '12_diffClosing stocks(kmt)', '12_diffImports(kmt)'],\n",
      "      dtype='object')\n",
      "\n",
      "Total number of missing values :\n",
      "\n",
      "4497\n"
     ]
    }
   ],
   "source": [
    "def discrimateColumns(train_df):\n",
    "    describe_df = train_df.describe()\n",
    "    columns_missing = train_df.columns[(describe_df.loc['count'] < len(train_df)).values]\n",
    "    columns_full = train_df.columns[(describe_df.loc['count'] == len(train_df)).values]\n",
    "    return (columns_missing,columns_full)\n",
    "print(\"Columns where we find missing values :\\n\")\n",
    "print(discrimateColumns(train_df)[0])\n",
    "print(\"\\nTotal number of missing values :\\n\")\n",
    "print(train_df.isnull().sum().sum())"
   ]
  },
  {
   "cell_type": "markdown",
   "metadata": {},
   "source": [
    "<p>We could impute values simply by __choosing the median for each column__.<br>\n",
    "Or we could __group with respect to the country and the month__ and then __impute the median__. </p> <br>\n",
    "```group = [\"country\",\"month\"]\n",
    "train_df.ix[:,2:] = \\\n",
    "    train_df.groupby(group,as_index=False).transform(lambda x: x.fillna(x.median()))[train_df.columns[2:]]\n",
    "```\n",
    "<br>\n",
    "<p>Yet, is is also very common to __fill the NAs with a preliminary regression__. </p>"
   ]
  },
  {
   "cell_type": "code",
   "execution_count": 31,
   "metadata": {
    "collapsed": false
   },
   "outputs": [],
   "source": [
    "from sklearn.ensemble import RandomForestRegressor\n",
    "import numpy as np\n",
    "\n",
    "def fillRegression(train_df):\n",
    "    columns_missing,columns_full = discrimateColumns(train_df)\n",
    "    for target_column in columns_missing:\n",
    "        #print(target_column) # Uncomment this to see the progression\n",
    "        X = train_df[columns_full].values\n",
    "        y = train_df[target_column].values\n",
    "        train_is = np.arange(len(y))[~np.isnan(y)]\n",
    "        test_is = np.arange(len(y))[np.isnan(y)]\n",
    "        clf = RandomForestRegressor(n_estimators=10, max_leaf_nodes=5)\n",
    "        clf.fit(X[train_is], y[train_is])\n",
    "        train_df.ix[test_is, target_column] = clf.predict(X[test_is])\n",
    "        columns_full = np.append(columns_full, target_column)\n",
    "    return train_df\n",
    "\n",
    "train_df = fillRegression(train_df)"
   ]
  },
  {
   "cell_type": "markdown",
   "metadata": {},
   "source": [
    "<p>And we can now check that there are no missing values left:</p>"
   ]
  },
  {
   "cell_type": "code",
   "execution_count": 32,
   "metadata": {
    "collapsed": false
   },
   "outputs": [
    {
     "name": "stdout",
     "output_type": "stream",
     "text": [
      "\n",
      "Total number of missing values :\n",
      "\n",
      "0\n"
     ]
    }
   ],
   "source": [
    "print(\"\\nTotal number of missing values :\\n\")\n",
    "print(train_df.isnull().sum().sum())"
   ]
  },
  {
   "cell_type": "markdown",
   "metadata": {},
   "source": [
    "### Dummy Coding"
   ]
  },
  {
   "cell_type": "markdown",
   "metadata": {},
   "source": [
    "<p>The first group of features needs to be dummy coded:</p>"
   ]
  },
  {
   "cell_type": "code",
   "execution_count": 7,
   "metadata": {
    "collapsed": false
   },
   "outputs": [
    {
     "data": {
      "text/plain": [
       "Index(['month', 'country'], dtype='object')"
      ]
     },
     "execution_count": 7,
     "metadata": {},
     "output_type": "execute_result"
    }
   ],
   "source": [
    "columns_group[0]"
   ]
  },
  {
   "cell_type": "markdown",
   "metadata": {},
   "source": [
    "<p>This will add 12 entries for the month, and 76 for the countries, which gives a total of 120 + 12 + 76 = 208 features.</p>"
   ]
  },
  {
   "cell_type": "code",
   "execution_count": 8,
   "metadata": {
    "collapsed": true
   },
   "outputs": [],
   "source": [
    "train_df = pd.get_dummies(train_df, drop_first=False, columns=['month'])\n",
    "train_df = pd.get_dummies(train_df, drop_first=False, columns=['country'])"
   ]
  }
 ],
 "metadata": {
  "anaconda-cloud": {},
  "kernelspec": {
   "display_name": "Python [Root]",
   "language": "python",
   "name": "Python [Root]"
  },
  "language_info": {
   "codemirror_mode": {
    "name": "ipython",
    "version": 3
   },
   "file_extension": ".py",
   "mimetype": "text/x-python",
   "name": "python",
   "nbconvert_exporter": "python",
   "pygments_lexer": "ipython3",
   "version": "3.5.2"
  }
 },
 "nbformat": 4,
 "nbformat_minor": 0
}
